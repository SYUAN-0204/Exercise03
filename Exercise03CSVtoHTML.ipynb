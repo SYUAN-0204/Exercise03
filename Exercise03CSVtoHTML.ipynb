{
  "nbformat": 4,
  "nbformat_minor": 0,
  "metadata": {
    "colab": {
      "provenance": []
    },
    "kernelspec": {
      "name": "python3",
      "display_name": "Python 3"
    },
    "language_info": {
      "name": "python"
    }
  },
  "cells": [
    {
      "cell_type": "code",
      "execution_count": 2,
      "metadata": {
        "colab": {
          "base_uri": "https://localhost:8080/",
          "height": 34
        },
        "id": "_rpVi2UpgRux",
        "outputId": "c50eb5fa-1903-4848-94df-03e57c17758e"
      },
      "outputs": [
        {
          "output_type": "stream",
          "name": "stdout",
          "text": [
            "HTML 片段已生成：/content/dodgers_players.html\n"
          ]
        },
        {
          "output_type": "display_data",
          "data": {
            "text/plain": [
              "<IPython.core.display.Javascript object>"
            ],
            "application/javascript": [
              "\n",
              "    async function download(id, filename, size) {\n",
              "      if (!google.colab.kernel.accessAllowed) {\n",
              "        return;\n",
              "      }\n",
              "      const div = document.createElement('div');\n",
              "      const label = document.createElement('label');\n",
              "      label.textContent = `Downloading \"${filename}\": `;\n",
              "      div.appendChild(label);\n",
              "      const progress = document.createElement('progress');\n",
              "      progress.max = size;\n",
              "      div.appendChild(progress);\n",
              "      document.body.appendChild(div);\n",
              "\n",
              "      const buffers = [];\n",
              "      let downloaded = 0;\n",
              "\n",
              "      const channel = await google.colab.kernel.comms.open(id);\n",
              "      // Send a message to notify the kernel that we're ready.\n",
              "      channel.send({})\n",
              "\n",
              "      for await (const message of channel.messages) {\n",
              "        // Send a message to notify the kernel that we're ready.\n",
              "        channel.send({})\n",
              "        if (message.buffers) {\n",
              "          for (const buffer of message.buffers) {\n",
              "            buffers.push(buffer);\n",
              "            downloaded += buffer.byteLength;\n",
              "            progress.value = downloaded;\n",
              "          }\n",
              "        }\n",
              "      }\n",
              "      const blob = new Blob(buffers, {type: 'application/binary'});\n",
              "      const a = document.createElement('a');\n",
              "      a.href = window.URL.createObjectURL(blob);\n",
              "      a.download = filename;\n",
              "      div.appendChild(a);\n",
              "      a.click();\n",
              "      div.remove();\n",
              "    }\n",
              "  "
            ]
          },
          "metadata": {}
        },
        {
          "output_type": "display_data",
          "data": {
            "text/plain": [
              "<IPython.core.display.Javascript object>"
            ],
            "application/javascript": [
              "download(\"download_3cf17ec0-1ee6-4dc9-8e40-6487d9903ad9\", \"dodgers_players.html\", 24881)"
            ]
          },
          "metadata": {}
        }
      ],
      "source": [
        "import pandas as pd\n",
        "\n",
        "# 讀取 CSV 檔案（請確保先上傳到 Colab）\n",
        "file_path = \"/content/dodgers_roster.csv\"  # 修改為你的 CSV 路徑\n",
        "df = pd.read_csv(file_path)\n",
        "\n",
        "# 生成 HTML 片段\n",
        "html_output = \"\"\n",
        "\n",
        "for _, row in df.iterrows():\n",
        "    player_html = f'''\n",
        "    <div class=\"player\">\n",
        "        <a href=\"{row['Profile URL']}\">\n",
        "            <img class=\"playerImg\" src=\"{row['Image URL']}\" alt=\"{row['Name']}\">\n",
        "        </a>\n",
        "        <p class=\"player\">{row['Name']}</p>\n",
        "        <p class=\"playerDetail\">\n",
        "            <span class=\"pno\">{row['Jersey']}</span>\n",
        "            <span class=\"pnoDetail\">{row['B/T']}</span>\n",
        "            <span class=\"pnoDetail\">{row['Height']}</span>\n",
        "            <span class=\"pnoDetail\">{row['Weight']}</span>\n",
        "            <br>\n",
        "            {row['DOB']}\n",
        "        </p>\n",
        "    </div>\n",
        "    '''\n",
        "    html_output += player_html\n",
        "\n",
        "# 儲存為 HTML 檔案\n",
        "output_file = \"/content/dodgers_players.html\"\n",
        "with open(output_file, \"w\", encoding=\"utf-8\") as f:\n",
        "    f.write(html_output)\n",
        "\n",
        "print(f\"HTML 片段已生成：{output_file}\")\n",
        "\n",
        "# 下載檔案\n",
        "from google.colab import files\n",
        "files.download(output_file)\n"
      ]
    }
  ]
}