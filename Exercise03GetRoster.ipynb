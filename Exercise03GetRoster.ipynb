{
  "nbformat": 4,
  "nbformat_minor": 0,
  "metadata": {
    "colab": {
      "provenance": []
    },
    "kernelspec": {
      "name": "python3",
      "display_name": "Python 3"
    },
    "language_info": {
      "name": "python"
    }
  },
  "cells": [
    {
      "cell_type": "code",
      "execution_count": 1,
      "metadata": {
        "colab": {
          "base_uri": "https://localhost:8080/"
        },
        "id": "edRTTgnq7bQT",
        "outputId": "b697ec1e-ae15-406b-98b1-1190b2997245"
      },
      "outputs": [
        {
          "output_type": "stream",
          "name": "stdout",
          "text": [
            "爬取完成，資料已儲存至 dodgers_roster.csv\n"
          ]
        }
      ],
      "source": [
        "import requests\n",
        "from bs4 import BeautifulSoup\n",
        "import csv\n",
        "\n",
        "# 目標網址\n",
        "url = \"https://www.mlb.com/dodgers/roster\"\n",
        "\n",
        "# 發送 GET 請求\n",
        "headers = {\n",
        "    \"User-Agent\": \"Mozilla/5.0\"\n",
        "}\n",
        "response = requests.get(url, headers=headers)\n",
        "\n",
        "# 確保請求成功\n",
        "if response.status_code == 200:\n",
        "    # 使用 BeautifulSoup 解析 HTML\n",
        "    soup = BeautifulSoup(response.text, \"html.parser\")\n",
        "\n",
        "    # 找到所有球員的資料列\n",
        "    players = soup.find_all(\"tr\")\n",
        "\n",
        "    # 儲存爬取結果\n",
        "    player_data = []\n",
        "\n",
        "    for player in players:\n",
        "        name_tag = player.find(\"a\")  # 球員姓名\n",
        "        if name_tag:\n",
        "            name = name_tag.text.strip()\n",
        "            player_url = \"https://www.mlb.com\" + name_tag[\"href\"]  # 球員個人頁面\n",
        "\n",
        "            jersey = player.find(\"span\", class_=\"jersey\").text.strip() if player.find(\"span\", class_=\"jersey\") else \"\"\n",
        "            bat_throw = player.find(\"td\", class_=\"bat-throw\").text.strip() if player.find(\"td\", class_=\"bat-throw\") else \"\"\n",
        "            height = player.find(\"td\", class_=\"height\").text.strip() if player.find(\"td\", class_=\"height\") else \"\"\n",
        "            weight = player.find(\"td\", class_=\"weight\").text.strip() if player.find(\"td\", class_=\"weight\") else \"\"\n",
        "            birthday = player.find(\"td\", class_=\"birthday\").text.strip() if player.find(\"td\", class_=\"birthday\") else \"\"\n",
        "\n",
        "            # 獲取球員照片\n",
        "            img_tag = player.find(\"img\")\n",
        "            img_url = img_tag[\"src\"] if img_tag else \"\"\n",
        "\n",
        "            # 將資料存入列表\n",
        "            player_data.append([name, player_url, img_url, jersey, bat_throw, height, weight, birthday])\n",
        "\n",
        "    # 存成 CSV\n",
        "    with open(\"dodgers_roster.csv\", \"w\", newline=\"\", encoding=\"utf-8\") as f:\n",
        "        writer = csv.writer(f)\n",
        "        writer.writerow([\"Name\", \"Profile URL\", \"Image URL\", \"Jersey\", \"B/T\", \"Height\", \"Weight\", \"DOB\"])\n",
        "        writer.writerows(player_data)\n",
        "\n",
        "    print(\"爬取完成，資料已儲存至 dodgers_roster.csv\")\n",
        "\n",
        "else:\n",
        "    print(\"無法獲取網頁內容，請檢查網址或網路連線。\")\n"
      ]
    }
  ]
}